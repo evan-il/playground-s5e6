{
 "cells": [
  {
   "cell_type": "code",
   "execution_count": 16,
   "id": "46e641ab",
   "metadata": {},
   "outputs": [],
   "source": [
    "import numpy as np, pandas as pd\n",
    "import matplotlib.pyplot as plt\n",
    "from sklearn.preprocessing import LabelEncoder"
   ]
  },
  {
   "cell_type": "code",
   "execution_count": 4,
   "id": "9041cbf1",
   "metadata": {},
   "outputs": [],
   "source": [
    "train = pd.read_csv('../dataset/train.csv', index_col = 'id')\n",
    "test = pd.read_csv('../dataset/test.csv', index_col = 'id')"
   ]
  },
  {
   "cell_type": "code",
   "execution_count": 12,
   "id": "0b9fdbaa",
   "metadata": {},
   "outputs": [
    {
     "name": "stdout",
     "output_type": "stream",
     "text": [
      "<class 'pandas.core.frame.DataFrame'>\n",
      "Int64Index: 250000 entries, 750000 to 999999\n",
      "Data columns (total 8 columns):\n",
      " #   Column       Non-Null Count   Dtype \n",
      "---  ------       --------------   ----- \n",
      " 0   Temparature  250000 non-null  int64 \n",
      " 1   Humidity     250000 non-null  int64 \n",
      " 2   Moisture     250000 non-null  int64 \n",
      " 3   Soil Type    250000 non-null  object\n",
      " 4   Crop Type    250000 non-null  object\n",
      " 5   Nitrogen     250000 non-null  int64 \n",
      " 6   Potassium    250000 non-null  int64 \n",
      " 7   Phosphorous  250000 non-null  int64 \n",
      "dtypes: int64(6), object(2)\n",
      "memory usage: 17.2+ MB\n"
     ]
    }
   ],
   "source": [
    "test.info()"
   ]
  },
  {
   "cell_type": "code",
   "execution_count": 10,
   "id": "4073f6a0",
   "metadata": {},
   "outputs": [
    {
     "name": "stdout",
     "output_type": "stream",
     "text": [
      "<class 'pandas.core.frame.DataFrame'>\n",
      "Int64Index: 750000 entries, 0 to 749999\n",
      "Data columns (total 9 columns):\n",
      " #   Column           Non-Null Count   Dtype \n",
      "---  ------           --------------   ----- \n",
      " 0   Temparature      750000 non-null  int64 \n",
      " 1   Humidity         750000 non-null  int64 \n",
      " 2   Moisture         750000 non-null  int64 \n",
      " 3   Soil Type        750000 non-null  object\n",
      " 4   Crop Type        750000 non-null  object\n",
      " 5   Nitrogen         750000 non-null  int64 \n",
      " 6   Potassium        750000 non-null  int64 \n",
      " 7   Phosphorous      750000 non-null  int64 \n",
      " 8   Fertilizer Name  750000 non-null  object\n",
      "dtypes: int64(6), object(3)\n",
      "memory usage: 57.2+ MB\n"
     ]
    }
   ],
   "source": [
    "train.info()"
   ]
  },
  {
   "cell_type": "code",
   "execution_count": 13,
   "id": "43f18f03",
   "metadata": {},
   "outputs": [
    {
     "data": {
      "text/html": [
       "<div>\n",
       "<style scoped>\n",
       "    .dataframe tbody tr th:only-of-type {\n",
       "        vertical-align: middle;\n",
       "    }\n",
       "\n",
       "    .dataframe tbody tr th {\n",
       "        vertical-align: top;\n",
       "    }\n",
       "\n",
       "    .dataframe thead th {\n",
       "        text-align: right;\n",
       "    }\n",
       "</style>\n",
       "<table border=\"1\" class=\"dataframe\">\n",
       "  <thead>\n",
       "    <tr style=\"text-align: right;\">\n",
       "      <th></th>\n",
       "      <th>Temparature</th>\n",
       "      <th>Humidity</th>\n",
       "      <th>Moisture</th>\n",
       "      <th>Soil Type</th>\n",
       "      <th>Crop Type</th>\n",
       "      <th>Nitrogen</th>\n",
       "      <th>Potassium</th>\n",
       "      <th>Phosphorous</th>\n",
       "      <th>Fertilizer Name</th>\n",
       "    </tr>\n",
       "    <tr>\n",
       "      <th>id</th>\n",
       "      <th></th>\n",
       "      <th></th>\n",
       "      <th></th>\n",
       "      <th></th>\n",
       "      <th></th>\n",
       "      <th></th>\n",
       "      <th></th>\n",
       "      <th></th>\n",
       "      <th></th>\n",
       "    </tr>\n",
       "  </thead>\n",
       "  <tbody>\n",
       "    <tr>\n",
       "      <th>0</th>\n",
       "      <td>37</td>\n",
       "      <td>70</td>\n",
       "      <td>36</td>\n",
       "      <td>Clayey</td>\n",
       "      <td>Sugarcane</td>\n",
       "      <td>36</td>\n",
       "      <td>4</td>\n",
       "      <td>5</td>\n",
       "      <td>28-28</td>\n",
       "    </tr>\n",
       "    <tr>\n",
       "      <th>1</th>\n",
       "      <td>27</td>\n",
       "      <td>69</td>\n",
       "      <td>65</td>\n",
       "      <td>Sandy</td>\n",
       "      <td>Millets</td>\n",
       "      <td>30</td>\n",
       "      <td>6</td>\n",
       "      <td>18</td>\n",
       "      <td>28-28</td>\n",
       "    </tr>\n",
       "    <tr>\n",
       "      <th>2</th>\n",
       "      <td>29</td>\n",
       "      <td>63</td>\n",
       "      <td>32</td>\n",
       "      <td>Sandy</td>\n",
       "      <td>Millets</td>\n",
       "      <td>24</td>\n",
       "      <td>12</td>\n",
       "      <td>16</td>\n",
       "      <td>17-17-17</td>\n",
       "    </tr>\n",
       "    <tr>\n",
       "      <th>3</th>\n",
       "      <td>35</td>\n",
       "      <td>62</td>\n",
       "      <td>54</td>\n",
       "      <td>Sandy</td>\n",
       "      <td>Barley</td>\n",
       "      <td>39</td>\n",
       "      <td>12</td>\n",
       "      <td>4</td>\n",
       "      <td>10-26-26</td>\n",
       "    </tr>\n",
       "    <tr>\n",
       "      <th>4</th>\n",
       "      <td>35</td>\n",
       "      <td>58</td>\n",
       "      <td>43</td>\n",
       "      <td>Red</td>\n",
       "      <td>Paddy</td>\n",
       "      <td>37</td>\n",
       "      <td>2</td>\n",
       "      <td>16</td>\n",
       "      <td>DAP</td>\n",
       "    </tr>\n",
       "  </tbody>\n",
       "</table>\n",
       "</div>"
      ],
      "text/plain": [
       "    Temparature  Humidity  Moisture Soil Type  Crop Type  Nitrogen  Potassium  \\\n",
       "id                                                                              \n",
       "0            37        70        36    Clayey  Sugarcane        36          4   \n",
       "1            27        69        65     Sandy    Millets        30          6   \n",
       "2            29        63        32     Sandy    Millets        24         12   \n",
       "3            35        62        54     Sandy     Barley        39         12   \n",
       "4            35        58        43       Red      Paddy        37          2   \n",
       "\n",
       "    Phosphorous Fertilizer Name  \n",
       "id                               \n",
       "0             5           28-28  \n",
       "1            18           28-28  \n",
       "2            16        17-17-17  \n",
       "3             4        10-26-26  \n",
       "4            16             DAP  "
      ]
     },
     "execution_count": 13,
     "metadata": {},
     "output_type": "execute_result"
    }
   ],
   "source": [
    "train.head()"
   ]
  },
  {
   "cell_type": "code",
   "execution_count": 8,
   "id": "c6d73f94",
   "metadata": {},
   "outputs": [
    {
     "data": {
      "text/html": [
       "<div>\n",
       "<style scoped>\n",
       "    .dataframe tbody tr th:only-of-type {\n",
       "        vertical-align: middle;\n",
       "    }\n",
       "\n",
       "    .dataframe tbody tr th {\n",
       "        vertical-align: top;\n",
       "    }\n",
       "\n",
       "    .dataframe thead th {\n",
       "        text-align: right;\n",
       "    }\n",
       "</style>\n",
       "<table border=\"1\" class=\"dataframe\">\n",
       "  <thead>\n",
       "    <tr style=\"text-align: right;\">\n",
       "      <th></th>\n",
       "      <th>Temparature</th>\n",
       "      <th>Humidity</th>\n",
       "      <th>Moisture</th>\n",
       "      <th>Nitrogen</th>\n",
       "      <th>Potassium</th>\n",
       "      <th>Phosphorous</th>\n",
       "    </tr>\n",
       "  </thead>\n",
       "  <tbody>\n",
       "    <tr>\n",
       "      <th>count</th>\n",
       "      <td>750000.000000</td>\n",
       "      <td>750000.000000</td>\n",
       "      <td>750000.000000</td>\n",
       "      <td>750000.000000</td>\n",
       "      <td>750000.000000</td>\n",
       "      <td>750000.000000</td>\n",
       "    </tr>\n",
       "    <tr>\n",
       "      <th>mean</th>\n",
       "      <td>31.503565</td>\n",
       "      <td>61.038912</td>\n",
       "      <td>45.184147</td>\n",
       "      <td>23.093808</td>\n",
       "      <td>9.478296</td>\n",
       "      <td>21.073227</td>\n",
       "    </tr>\n",
       "    <tr>\n",
       "      <th>std</th>\n",
       "      <td>4.025574</td>\n",
       "      <td>6.647695</td>\n",
       "      <td>11.794594</td>\n",
       "      <td>11.216125</td>\n",
       "      <td>5.765622</td>\n",
       "      <td>12.346831</td>\n",
       "    </tr>\n",
       "    <tr>\n",
       "      <th>min</th>\n",
       "      <td>25.000000</td>\n",
       "      <td>50.000000</td>\n",
       "      <td>25.000000</td>\n",
       "      <td>4.000000</td>\n",
       "      <td>0.000000</td>\n",
       "      <td>0.000000</td>\n",
       "    </tr>\n",
       "    <tr>\n",
       "      <th>25%</th>\n",
       "      <td>28.000000</td>\n",
       "      <td>55.000000</td>\n",
       "      <td>35.000000</td>\n",
       "      <td>13.000000</td>\n",
       "      <td>4.000000</td>\n",
       "      <td>10.000000</td>\n",
       "    </tr>\n",
       "    <tr>\n",
       "      <th>50%</th>\n",
       "      <td>32.000000</td>\n",
       "      <td>61.000000</td>\n",
       "      <td>45.000000</td>\n",
       "      <td>23.000000</td>\n",
       "      <td>9.000000</td>\n",
       "      <td>21.000000</td>\n",
       "    </tr>\n",
       "    <tr>\n",
       "      <th>75%</th>\n",
       "      <td>35.000000</td>\n",
       "      <td>67.000000</td>\n",
       "      <td>55.000000</td>\n",
       "      <td>33.000000</td>\n",
       "      <td>14.000000</td>\n",
       "      <td>32.000000</td>\n",
       "    </tr>\n",
       "    <tr>\n",
       "      <th>max</th>\n",
       "      <td>38.000000</td>\n",
       "      <td>72.000000</td>\n",
       "      <td>65.000000</td>\n",
       "      <td>42.000000</td>\n",
       "      <td>19.000000</td>\n",
       "      <td>42.000000</td>\n",
       "    </tr>\n",
       "  </tbody>\n",
       "</table>\n",
       "</div>"
      ],
      "text/plain": [
       "         Temparature       Humidity       Moisture       Nitrogen  \\\n",
       "count  750000.000000  750000.000000  750000.000000  750000.000000   \n",
       "mean       31.503565      61.038912      45.184147      23.093808   \n",
       "std         4.025574       6.647695      11.794594      11.216125   \n",
       "min        25.000000      50.000000      25.000000       4.000000   \n",
       "25%        28.000000      55.000000      35.000000      13.000000   \n",
       "50%        32.000000      61.000000      45.000000      23.000000   \n",
       "75%        35.000000      67.000000      55.000000      33.000000   \n",
       "max        38.000000      72.000000      65.000000      42.000000   \n",
       "\n",
       "           Potassium    Phosphorous  \n",
       "count  750000.000000  750000.000000  \n",
       "mean        9.478296      21.073227  \n",
       "std         5.765622      12.346831  \n",
       "min         0.000000       0.000000  \n",
       "25%         4.000000      10.000000  \n",
       "50%         9.000000      21.000000  \n",
       "75%        14.000000      32.000000  \n",
       "max        19.000000      42.000000  "
      ]
     },
     "execution_count": 8,
     "metadata": {},
     "output_type": "execute_result"
    }
   ],
   "source": [
    "train.describe()"
   ]
  },
  {
   "cell_type": "code",
   "execution_count": 15,
   "id": "255877f8",
   "metadata": {},
   "outputs": [
    {
     "name": "stdout",
     "output_type": "stream",
     "text": [
      "['28-28' '17-17-17' '10-26-26' 'DAP' '20-20' '14-35-14' 'Urea']\n"
     ]
    }
   ],
   "source": [
    "print(train['Fertilizer Name'].unique())"
   ]
  },
  {
   "cell_type": "code",
   "execution_count": 17,
   "id": "236bae51",
   "metadata": {},
   "outputs": [
    {
     "data": {
      "text/plain": [
       "14-35-14    114436\n",
       "10-26-26    113887\n",
       "17-17-17    112453\n",
       "28-28       111158\n",
       "20-20       110889\n",
       "DAP          94860\n",
       "Urea         92317\n",
       "Name: Fertilizer Name, dtype: int64"
      ]
     },
     "execution_count": 17,
     "metadata": {},
     "output_type": "execute_result"
    }
   ],
   "source": [
    "train['Fertilizer Name'].value_counts()"
   ]
  }
 ],
 "metadata": {
  "kernelspec": {
   "display_name": "base",
   "language": "python",
   "name": "python3"
  },
  "language_info": {
   "codemirror_mode": {
    "name": "ipython",
    "version": 3
   },
   "file_extension": ".py",
   "mimetype": "text/x-python",
   "name": "python",
   "nbconvert_exporter": "python",
   "pygments_lexer": "ipython3",
   "version": "3.10.9"
  }
 },
 "nbformat": 4,
 "nbformat_minor": 5
}
